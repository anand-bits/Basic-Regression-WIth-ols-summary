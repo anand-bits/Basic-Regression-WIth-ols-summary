{
  "nbformat": 4,
  "nbformat_minor": 0,
  "metadata": {
    "colab": {
      "provenance": [],
      "authorship_tag": "ABX9TyM4Ba4nXemVUOAYDURfbcK3"
    },
    "kernelspec": {
      "name": "python3",
      "display_name": "Python 3"
    },
    "language_info": {
      "name": "python"
    }
  },
  "cells": [
    {
      "cell_type": "code",
      "execution_count": null,
      "metadata": {
        "id": "WUe8-hwTB4EY"
      },
      "outputs": [],
      "source": [
        "import numpy as np\n",
        "import pandas as pd\n",
        "import matplotlib.pyplot as plt\n"
      ]
    },
    {
      "cell_type": "code",
      "source": [
        "data=pd.read_csv(\"/content/kc_house_data.csv\")\n",
        "data.head()\n",
        "data.dropna(inplace=True)"
      ],
      "metadata": {
        "id": "TZR-OBoBcmch"
      },
      "execution_count": null,
      "outputs": []
    },
    {
      "cell_type": "code",
      "source": [
        "x= data.iloc[:,3:]\n",
        "\n",
        "x.shape"
      ],
      "metadata": {
        "id": "3cS4syMcdDTN",
        "colab": {
          "base_uri": "https://localhost:8080/"
        },
        "outputId": "d964ea2f-b47e-404f-e1ec-d09a9bc65b02"
      },
      "execution_count": null,
      "outputs": [
        {
          "output_type": "execute_result",
          "data": {
            "text/plain": [
              "(25208, 18)"
            ]
          },
          "metadata": {},
          "execution_count": 55
        }
      ]
    },
    {
      "cell_type": "code",
      "source": [
        "y=data.iloc[:,2]\n",
        "y.dropna(inplace=True)\n",
        "y.shape"
      ],
      "metadata": {
        "id": "k8krOb5-cvIV",
        "colab": {
          "base_uri": "https://localhost:8080/"
        },
        "outputId": "7d71b08a-99a2-4f88-f001-38ce633c2811"
      },
      "execution_count": null,
      "outputs": [
        {
          "output_type": "execute_result",
          "data": {
            "text/plain": [
              "(25208,)"
            ]
          },
          "metadata": {},
          "execution_count": 56
        }
      ]
    },
    {
      "cell_type": "markdown",
      "source": [
        "# New Section\n",
        "Splitting the data in x and y\n"
      ],
      "metadata": {
        "id": "5xFdSdejcBWU"
      }
    },
    {
      "cell_type": "code",
      "source": [
        "from sklearn.model_selection import train_test_split\n",
        "x_train,x_test,y_train,y_test=train_test_split(x,y,test_size=1/3,random_state=43)"
      ],
      "metadata": {
        "id": "3tHAXuOPex9K"
      },
      "execution_count": null,
      "outputs": []
    },
    {
      "cell_type": "code",
      "source": [
        "x_train.shape\n"
      ],
      "metadata": {
        "colab": {
          "base_uri": "https://localhost:8080/"
        },
        "id": "9S2d42uefww3",
        "outputId": "371aa60e-11cc-4b0d-f2f3-98465284be1b"
      },
      "execution_count": null,
      "outputs": [
        {
          "output_type": "execute_result",
          "data": {
            "text/plain": [
              "(16805, 18)"
            ]
          },
          "metadata": {},
          "execution_count": 58
        }
      ]
    },
    {
      "cell_type": "code",
      "source": [
        "y_train.shape"
      ],
      "metadata": {
        "colab": {
          "base_uri": "https://localhost:8080/"
        },
        "id": "yHYIsjq7f5ts",
        "outputId": "6f17086b-2a76-4fe2-ff0b-344a0c857835"
      },
      "execution_count": null,
      "outputs": [
        {
          "output_type": "execute_result",
          "data": {
            "text/plain": [
              "(16805,)"
            ]
          },
          "metadata": {},
          "execution_count": 59
        }
      ]
    },
    {
      "cell_type": "code",
      "source": [
        "x_train.dropna(inplace=True)\n",
        "x_train.shape"
      ],
      "metadata": {
        "colab": {
          "base_uri": "https://localhost:8080/"
        },
        "id": "PUB-iSY9h3Yb",
        "outputId": "ee1f9bf3-37e0-47d4-f955-0ddcf9d4bb0f"
      },
      "execution_count": null,
      "outputs": [
        {
          "output_type": "execute_result",
          "data": {
            "text/plain": [
              "(16805, 18)"
            ]
          },
          "metadata": {},
          "execution_count": 60
        }
      ]
    },
    {
      "cell_type": "code",
      "source": [
        "y_train.dropna(inplace=True)\n",
        "y_train.shape"
      ],
      "metadata": {
        "colab": {
          "base_uri": "https://localhost:8080/"
        },
        "id": "luSQVO0giGIU",
        "outputId": "e3e3cf28-e1e3-42d5-c835-b8cf124df6b1"
      },
      "execution_count": null,
      "outputs": [
        {
          "output_type": "execute_result",
          "data": {
            "text/plain": [
              "(16805,)"
            ]
          },
          "metadata": {},
          "execution_count": 61
        }
      ]
    },
    {
      "cell_type": "markdown",
      "source": [
        "**Modelling the data**\n"
      ],
      "metadata": {
        "id": "8s4M5uxygk7Z"
      }
    },
    {
      "cell_type": "code",
      "source": [
        "from sklearn.linear_model import LinearRegression\n",
        "lr=LinearRegression()"
      ],
      "metadata": {
        "id": "gdTY3GuxgO3X"
      },
      "execution_count": null,
      "outputs": []
    },
    {
      "cell_type": "code",
      "source": [
        "lr.fit(x_train,y_train)"
      ],
      "metadata": {
        "colab": {
          "base_uri": "https://localhost:8080/",
          "height": 74
        },
        "id": "y6nS1wXOgkQv",
        "outputId": "ff158171-96cc-4d68-9a1a-bbc8960f56bd"
      },
      "execution_count": null,
      "outputs": [
        {
          "output_type": "execute_result",
          "data": {
            "text/plain": [
              "LinearRegression()"
            ],
            "text/html": [
              "<style>#sk-container-id-2 {color: black;background-color: white;}#sk-container-id-2 pre{padding: 0;}#sk-container-id-2 div.sk-toggleable {background-color: white;}#sk-container-id-2 label.sk-toggleable__label {cursor: pointer;display: block;width: 100%;margin-bottom: 0;padding: 0.3em;box-sizing: border-box;text-align: center;}#sk-container-id-2 label.sk-toggleable__label-arrow:before {content: \"▸\";float: left;margin-right: 0.25em;color: #696969;}#sk-container-id-2 label.sk-toggleable__label-arrow:hover:before {color: black;}#sk-container-id-2 div.sk-estimator:hover label.sk-toggleable__label-arrow:before {color: black;}#sk-container-id-2 div.sk-toggleable__content {max-height: 0;max-width: 0;overflow: hidden;text-align: left;background-color: #f0f8ff;}#sk-container-id-2 div.sk-toggleable__content pre {margin: 0.2em;color: black;border-radius: 0.25em;background-color: #f0f8ff;}#sk-container-id-2 input.sk-toggleable__control:checked~div.sk-toggleable__content {max-height: 200px;max-width: 100%;overflow: auto;}#sk-container-id-2 input.sk-toggleable__control:checked~label.sk-toggleable__label-arrow:before {content: \"▾\";}#sk-container-id-2 div.sk-estimator input.sk-toggleable__control:checked~label.sk-toggleable__label {background-color: #d4ebff;}#sk-container-id-2 div.sk-label input.sk-toggleable__control:checked~label.sk-toggleable__label {background-color: #d4ebff;}#sk-container-id-2 input.sk-hidden--visually {border: 0;clip: rect(1px 1px 1px 1px);clip: rect(1px, 1px, 1px, 1px);height: 1px;margin: -1px;overflow: hidden;padding: 0;position: absolute;width: 1px;}#sk-container-id-2 div.sk-estimator {font-family: monospace;background-color: #f0f8ff;border: 1px dotted black;border-radius: 0.25em;box-sizing: border-box;margin-bottom: 0.5em;}#sk-container-id-2 div.sk-estimator:hover {background-color: #d4ebff;}#sk-container-id-2 div.sk-parallel-item::after {content: \"\";width: 100%;border-bottom: 1px solid gray;flex-grow: 1;}#sk-container-id-2 div.sk-label:hover label.sk-toggleable__label {background-color: #d4ebff;}#sk-container-id-2 div.sk-serial::before {content: \"\";position: absolute;border-left: 1px solid gray;box-sizing: border-box;top: 0;bottom: 0;left: 50%;z-index: 0;}#sk-container-id-2 div.sk-serial {display: flex;flex-direction: column;align-items: center;background-color: white;padding-right: 0.2em;padding-left: 0.2em;position: relative;}#sk-container-id-2 div.sk-item {position: relative;z-index: 1;}#sk-container-id-2 div.sk-parallel {display: flex;align-items: stretch;justify-content: center;background-color: white;position: relative;}#sk-container-id-2 div.sk-item::before, #sk-container-id-2 div.sk-parallel-item::before {content: \"\";position: absolute;border-left: 1px solid gray;box-sizing: border-box;top: 0;bottom: 0;left: 50%;z-index: -1;}#sk-container-id-2 div.sk-parallel-item {display: flex;flex-direction: column;z-index: 1;position: relative;background-color: white;}#sk-container-id-2 div.sk-parallel-item:first-child::after {align-self: flex-end;width: 50%;}#sk-container-id-2 div.sk-parallel-item:last-child::after {align-self: flex-start;width: 50%;}#sk-container-id-2 div.sk-parallel-item:only-child::after {width: 0;}#sk-container-id-2 div.sk-dashed-wrapped {border: 1px dashed gray;margin: 0 0.4em 0.5em 0.4em;box-sizing: border-box;padding-bottom: 0.4em;background-color: white;}#sk-container-id-2 div.sk-label label {font-family: monospace;font-weight: bold;display: inline-block;line-height: 1.2em;}#sk-container-id-2 div.sk-label-container {text-align: center;}#sk-container-id-2 div.sk-container {/* jupyter's `normalize.less` sets `[hidden] { display: none; }` but bootstrap.min.css set `[hidden] { display: none !important; }` so we also need the `!important` here to be able to override the default hidden behavior on the sphinx rendered scikit-learn.org. See: https://github.com/scikit-learn/scikit-learn/issues/21755 */display: inline-block !important;position: relative;}#sk-container-id-2 div.sk-text-repr-fallback {display: none;}</style><div id=\"sk-container-id-2\" class=\"sk-top-container\"><div class=\"sk-text-repr-fallback\"><pre>LinearRegression()</pre><b>In a Jupyter environment, please rerun this cell to show the HTML representation or trust the notebook. <br />On GitHub, the HTML representation is unable to render, please try loading this page with nbviewer.org.</b></div><div class=\"sk-container\" hidden><div class=\"sk-item\"><div class=\"sk-estimator sk-toggleable\"><input class=\"sk-toggleable__control sk-hidden--visually\" id=\"sk-estimator-id-2\" type=\"checkbox\" checked><label for=\"sk-estimator-id-2\" class=\"sk-toggleable__label sk-toggleable__label-arrow\">LinearRegression</label><div class=\"sk-toggleable__content\"><pre>LinearRegression()</pre></div></div></div></div></div>"
            ]
          },
          "metadata": {},
          "execution_count": 63
        }
      ]
    },
    {
      "cell_type": "code",
      "source": [
        "lr.coef_"
      ],
      "metadata": {
        "colab": {
          "base_uri": "https://localhost:8080/"
        },
        "id": "9XPgPHZ5jwK9",
        "outputId": "eb5e548d-04cf-4b40-f958-c6117a698144"
      },
      "execution_count": null,
      "outputs": [
        {
          "output_type": "execute_result",
          "data": {
            "text/plain": [
              "array([-3.64796406e+04,  4.69720557e+04,  1.10226980e+02,  6.94955426e-02,\n",
              "        5.11355665e+03,  6.22416516e+05,  5.48455112e+04,  2.42883629e+04,\n",
              "        1.01977821e+05,  6.93323441e+01,  4.08946355e+01, -2.55600922e+03,\n",
              "        2.30565524e+01, -5.47708816e+02,  6.05223720e+05, -2.21980948e+05,\n",
              "        1.20216695e+01, -3.30459626e-01])"
            ]
          },
          "metadata": {},
          "execution_count": 64
        }
      ]
    },
    {
      "cell_type": "code",
      "source": [
        "lr.intercept_"
      ],
      "metadata": {
        "colab": {
          "base_uri": "https://localhost:8080/"
        },
        "id": "H3Z_hQinj2qU",
        "outputId": "a699361b-0316-4820-8977-94a5628f444f"
      },
      "execution_count": null,
      "outputs": [
        {
          "output_type": "execute_result",
          "data": {
            "text/plain": [
              "2131649.740296401"
            ]
          },
          "metadata": {},
          "execution_count": 65
        }
      ]
    },
    {
      "cell_type": "code",
      "source": [
        "y_pridection=lr.predict(x_test)"
      ],
      "metadata": {
        "id": "eSvDx7x1jEhe"
      },
      "execution_count": null,
      "outputs": []
    },
    {
      "cell_type": "markdown",
      "source": [
        "##with ols i.e pura summarry"
      ],
      "metadata": {
        "id": "REZRJ98Kko5v"
      }
    },
    {
      "cell_type": "code",
      "source": [
        "import statsmodels.api as sm\n",
        "x_with_constant=sm.add_constant(x_train)\n",
        "x_with_constant\n",
        "\n"
      ],
      "metadata": {
        "colab": {
          "base_uri": "https://localhost:8080/",
          "height": 487
        },
        "id": "5cnNVYWrkXqI",
        "outputId": "0ed53f88-1c98-4d08-9c54-bbd5af9e452d"
      },
      "execution_count": null,
      "outputs": [
        {
          "output_type": "execute_result",
          "data": {
            "text/plain": [
              "       const  bedrooms  bathrooms  sqft_living  sqft_lot  floors  waterfront  \\\n",
              "12024    1.0       5.0       3.25         4240      9588     2.0           0   \n",
              "13748    1.0       3.0       2.25         1358      1204     3.0           0   \n",
              "17168    1.0       4.0       2.50         3600    203425     2.0           0   \n",
              "23414    1.0       2.0       2.50         1590      1679     2.0           0   \n",
              "2647     1.0       4.0       1.00         1660      4690     1.5           0   \n",
              "...      ...       ...        ...          ...       ...     ...         ...   \n",
              "18450    1.0       3.0       2.50         3110    123710     2.0           0   \n",
              "7985     1.0       4.0       2.00         2190      4560     2.5           0   \n",
              "18689    1.0       4.0       2.75         2330      7642     1.0           0   \n",
              "19778    1.0       3.0       1.00         1360      6186     1.5           0   \n",
              "14150    1.0       5.0       3.00         2670      9920     1.0           0   \n",
              "\n",
              "       view  condition  grade  sqft_above  sqft_basement  yr_built  \\\n",
              "12024     0          3    9.0      4240.0              0      2014   \n",
              "13748     0          3    7.0      1358.0              0      2007   \n",
              "17168     0          3    9.0      3400.0            200      1979   \n",
              "23414     0          3    8.0      1590.0              0      2012   \n",
              "2647      0          3    7.0      1260.0            400      1945   \n",
              "...     ...        ...    ...         ...            ...       ...   \n",
              "18450     0          3    8.0      2430.0            680      1995   \n",
              "7985      0          5    8.0      2190.0              0      1910   \n",
              "18689     0          3    8.0      1800.0            530      1990   \n",
              "19778     0          4    6.0       760.0            600      1941   \n",
              "14150     0          3    8.0      1400.0           1270      1990   \n",
              "\n",
              "       yr_renovated  zipcode      lat     long  sqft_living15  sqft_lot15  \n",
              "12024           0.0  98053.0  47.6901 -122.018         4080.0      8425.0  \n",
              "13748           0.0  98133.0  47.7054 -122.346         1358.0      1196.0  \n",
              "17168           0.0  98077.0  47.7597 -122.018         3150.0    202989.0  \n",
              "23414           0.0  98029.0  47.5449 -122.011         1590.0      1680.0  \n",
              "2647            0.0  98117.0  47.6829 -122.378         1400.0      3876.0  \n",
              "...             ...      ...      ...      ...            ...         ...  \n",
              "18450           0.0  98038.0  47.3879 -122.002         2420.0     92782.0  \n",
              "7985            0.0  98103.0  47.6620 -122.329         2190.0      4560.0  \n",
              "18689           0.0  98023.0  47.2946 -122.370         2320.0      7933.0  \n",
              "19778           0.0  98133.0  47.7503 -122.334         1610.0      7453.0  \n",
              "14150           0.0  98001.0  47.3211 -122.277         1890.0     10341.0  \n",
              "\n",
              "[16805 rows x 19 columns]"
            ],
            "text/html": [
              "\n",
              "  <div id=\"df-6d73283d-920b-41ca-8b90-793461d072ef\">\n",
              "    <div class=\"colab-df-container\">\n",
              "      <div>\n",
              "<style scoped>\n",
              "    .dataframe tbody tr th:only-of-type {\n",
              "        vertical-align: middle;\n",
              "    }\n",
              "\n",
              "    .dataframe tbody tr th {\n",
              "        vertical-align: top;\n",
              "    }\n",
              "\n",
              "    .dataframe thead th {\n",
              "        text-align: right;\n",
              "    }\n",
              "</style>\n",
              "<table border=\"1\" class=\"dataframe\">\n",
              "  <thead>\n",
              "    <tr style=\"text-align: right;\">\n",
              "      <th></th>\n",
              "      <th>const</th>\n",
              "      <th>bedrooms</th>\n",
              "      <th>bathrooms</th>\n",
              "      <th>sqft_living</th>\n",
              "      <th>sqft_lot</th>\n",
              "      <th>floors</th>\n",
              "      <th>waterfront</th>\n",
              "      <th>view</th>\n",
              "      <th>condition</th>\n",
              "      <th>grade</th>\n",
              "      <th>sqft_above</th>\n",
              "      <th>sqft_basement</th>\n",
              "      <th>yr_built</th>\n",
              "      <th>yr_renovated</th>\n",
              "      <th>zipcode</th>\n",
              "      <th>lat</th>\n",
              "      <th>long</th>\n",
              "      <th>sqft_living15</th>\n",
              "      <th>sqft_lot15</th>\n",
              "    </tr>\n",
              "  </thead>\n",
              "  <tbody>\n",
              "    <tr>\n",
              "      <th>12024</th>\n",
              "      <td>1.0</td>\n",
              "      <td>5.0</td>\n",
              "      <td>3.25</td>\n",
              "      <td>4240</td>\n",
              "      <td>9588</td>\n",
              "      <td>2.0</td>\n",
              "      <td>0</td>\n",
              "      <td>0</td>\n",
              "      <td>3</td>\n",
              "      <td>9.0</td>\n",
              "      <td>4240.0</td>\n",
              "      <td>0</td>\n",
              "      <td>2014</td>\n",
              "      <td>0.0</td>\n",
              "      <td>98053.0</td>\n",
              "      <td>47.6901</td>\n",
              "      <td>-122.018</td>\n",
              "      <td>4080.0</td>\n",
              "      <td>8425.0</td>\n",
              "    </tr>\n",
              "    <tr>\n",
              "      <th>13748</th>\n",
              "      <td>1.0</td>\n",
              "      <td>3.0</td>\n",
              "      <td>2.25</td>\n",
              "      <td>1358</td>\n",
              "      <td>1204</td>\n",
              "      <td>3.0</td>\n",
              "      <td>0</td>\n",
              "      <td>0</td>\n",
              "      <td>3</td>\n",
              "      <td>7.0</td>\n",
              "      <td>1358.0</td>\n",
              "      <td>0</td>\n",
              "      <td>2007</td>\n",
              "      <td>0.0</td>\n",
              "      <td>98133.0</td>\n",
              "      <td>47.7054</td>\n",
              "      <td>-122.346</td>\n",
              "      <td>1358.0</td>\n",
              "      <td>1196.0</td>\n",
              "    </tr>\n",
              "    <tr>\n",
              "      <th>17168</th>\n",
              "      <td>1.0</td>\n",
              "      <td>4.0</td>\n",
              "      <td>2.50</td>\n",
              "      <td>3600</td>\n",
              "      <td>203425</td>\n",
              "      <td>2.0</td>\n",
              "      <td>0</td>\n",
              "      <td>0</td>\n",
              "      <td>3</td>\n",
              "      <td>9.0</td>\n",
              "      <td>3400.0</td>\n",
              "      <td>200</td>\n",
              "      <td>1979</td>\n",
              "      <td>0.0</td>\n",
              "      <td>98077.0</td>\n",
              "      <td>47.7597</td>\n",
              "      <td>-122.018</td>\n",
              "      <td>3150.0</td>\n",
              "      <td>202989.0</td>\n",
              "    </tr>\n",
              "    <tr>\n",
              "      <th>23414</th>\n",
              "      <td>1.0</td>\n",
              "      <td>2.0</td>\n",
              "      <td>2.50</td>\n",
              "      <td>1590</td>\n",
              "      <td>1679</td>\n",
              "      <td>2.0</td>\n",
              "      <td>0</td>\n",
              "      <td>0</td>\n",
              "      <td>3</td>\n",
              "      <td>8.0</td>\n",
              "      <td>1590.0</td>\n",
              "      <td>0</td>\n",
              "      <td>2012</td>\n",
              "      <td>0.0</td>\n",
              "      <td>98029.0</td>\n",
              "      <td>47.5449</td>\n",
              "      <td>-122.011</td>\n",
              "      <td>1590.0</td>\n",
              "      <td>1680.0</td>\n",
              "    </tr>\n",
              "    <tr>\n",
              "      <th>2647</th>\n",
              "      <td>1.0</td>\n",
              "      <td>4.0</td>\n",
              "      <td>1.00</td>\n",
              "      <td>1660</td>\n",
              "      <td>4690</td>\n",
              "      <td>1.5</td>\n",
              "      <td>0</td>\n",
              "      <td>0</td>\n",
              "      <td>3</td>\n",
              "      <td>7.0</td>\n",
              "      <td>1260.0</td>\n",
              "      <td>400</td>\n",
              "      <td>1945</td>\n",
              "      <td>0.0</td>\n",
              "      <td>98117.0</td>\n",
              "      <td>47.6829</td>\n",
              "      <td>-122.378</td>\n",
              "      <td>1400.0</td>\n",
              "      <td>3876.0</td>\n",
              "    </tr>\n",
              "    <tr>\n",
              "      <th>...</th>\n",
              "      <td>...</td>\n",
              "      <td>...</td>\n",
              "      <td>...</td>\n",
              "      <td>...</td>\n",
              "      <td>...</td>\n",
              "      <td>...</td>\n",
              "      <td>...</td>\n",
              "      <td>...</td>\n",
              "      <td>...</td>\n",
              "      <td>...</td>\n",
              "      <td>...</td>\n",
              "      <td>...</td>\n",
              "      <td>...</td>\n",
              "      <td>...</td>\n",
              "      <td>...</td>\n",
              "      <td>...</td>\n",
              "      <td>...</td>\n",
              "      <td>...</td>\n",
              "      <td>...</td>\n",
              "    </tr>\n",
              "    <tr>\n",
              "      <th>18450</th>\n",
              "      <td>1.0</td>\n",
              "      <td>3.0</td>\n",
              "      <td>2.50</td>\n",
              "      <td>3110</td>\n",
              "      <td>123710</td>\n",
              "      <td>2.0</td>\n",
              "      <td>0</td>\n",
              "      <td>0</td>\n",
              "      <td>3</td>\n",
              "      <td>8.0</td>\n",
              "      <td>2430.0</td>\n",
              "      <td>680</td>\n",
              "      <td>1995</td>\n",
              "      <td>0.0</td>\n",
              "      <td>98038.0</td>\n",
              "      <td>47.3879</td>\n",
              "      <td>-122.002</td>\n",
              "      <td>2420.0</td>\n",
              "      <td>92782.0</td>\n",
              "    </tr>\n",
              "    <tr>\n",
              "      <th>7985</th>\n",
              "      <td>1.0</td>\n",
              "      <td>4.0</td>\n",
              "      <td>2.00</td>\n",
              "      <td>2190</td>\n",
              "      <td>4560</td>\n",
              "      <td>2.5</td>\n",
              "      <td>0</td>\n",
              "      <td>0</td>\n",
              "      <td>5</td>\n",
              "      <td>8.0</td>\n",
              "      <td>2190.0</td>\n",
              "      <td>0</td>\n",
              "      <td>1910</td>\n",
              "      <td>0.0</td>\n",
              "      <td>98103.0</td>\n",
              "      <td>47.6620</td>\n",
              "      <td>-122.329</td>\n",
              "      <td>2190.0</td>\n",
              "      <td>4560.0</td>\n",
              "    </tr>\n",
              "    <tr>\n",
              "      <th>18689</th>\n",
              "      <td>1.0</td>\n",
              "      <td>4.0</td>\n",
              "      <td>2.75</td>\n",
              "      <td>2330</td>\n",
              "      <td>7642</td>\n",
              "      <td>1.0</td>\n",
              "      <td>0</td>\n",
              "      <td>0</td>\n",
              "      <td>3</td>\n",
              "      <td>8.0</td>\n",
              "      <td>1800.0</td>\n",
              "      <td>530</td>\n",
              "      <td>1990</td>\n",
              "      <td>0.0</td>\n",
              "      <td>98023.0</td>\n",
              "      <td>47.2946</td>\n",
              "      <td>-122.370</td>\n",
              "      <td>2320.0</td>\n",
              "      <td>7933.0</td>\n",
              "    </tr>\n",
              "    <tr>\n",
              "      <th>19778</th>\n",
              "      <td>1.0</td>\n",
              "      <td>3.0</td>\n",
              "      <td>1.00</td>\n",
              "      <td>1360</td>\n",
              "      <td>6186</td>\n",
              "      <td>1.5</td>\n",
              "      <td>0</td>\n",
              "      <td>0</td>\n",
              "      <td>4</td>\n",
              "      <td>6.0</td>\n",
              "      <td>760.0</td>\n",
              "      <td>600</td>\n",
              "      <td>1941</td>\n",
              "      <td>0.0</td>\n",
              "      <td>98133.0</td>\n",
              "      <td>47.7503</td>\n",
              "      <td>-122.334</td>\n",
              "      <td>1610.0</td>\n",
              "      <td>7453.0</td>\n",
              "    </tr>\n",
              "    <tr>\n",
              "      <th>14150</th>\n",
              "      <td>1.0</td>\n",
              "      <td>5.0</td>\n",
              "      <td>3.00</td>\n",
              "      <td>2670</td>\n",
              "      <td>9920</td>\n",
              "      <td>1.0</td>\n",
              "      <td>0</td>\n",
              "      <td>0</td>\n",
              "      <td>3</td>\n",
              "      <td>8.0</td>\n",
              "      <td>1400.0</td>\n",
              "      <td>1270</td>\n",
              "      <td>1990</td>\n",
              "      <td>0.0</td>\n",
              "      <td>98001.0</td>\n",
              "      <td>47.3211</td>\n",
              "      <td>-122.277</td>\n",
              "      <td>1890.0</td>\n",
              "      <td>10341.0</td>\n",
              "    </tr>\n",
              "  </tbody>\n",
              "</table>\n",
              "<p>16805 rows × 19 columns</p>\n",
              "</div>\n",
              "      <button class=\"colab-df-convert\" onclick=\"convertToInteractive('df-6d73283d-920b-41ca-8b90-793461d072ef')\"\n",
              "              title=\"Convert this dataframe to an interactive table.\"\n",
              "              style=\"display:none;\">\n",
              "        \n",
              "  <svg xmlns=\"http://www.w3.org/2000/svg\" height=\"24px\"viewBox=\"0 0 24 24\"\n",
              "       width=\"24px\">\n",
              "    <path d=\"M0 0h24v24H0V0z\" fill=\"none\"/>\n",
              "    <path d=\"M18.56 5.44l.94 2.06.94-2.06 2.06-.94-2.06-.94-.94-2.06-.94 2.06-2.06.94zm-11 1L8.5 8.5l.94-2.06 2.06-.94-2.06-.94L8.5 2.5l-.94 2.06-2.06.94zm10 10l.94 2.06.94-2.06 2.06-.94-2.06-.94-.94-2.06-.94 2.06-2.06.94z\"/><path d=\"M17.41 7.96l-1.37-1.37c-.4-.4-.92-.59-1.43-.59-.52 0-1.04.2-1.43.59L10.3 9.45l-7.72 7.72c-.78.78-.78 2.05 0 2.83L4 21.41c.39.39.9.59 1.41.59.51 0 1.02-.2 1.41-.59l7.78-7.78 2.81-2.81c.8-.78.8-2.07 0-2.86zM5.41 20L4 18.59l7.72-7.72 1.47 1.35L5.41 20z\"/>\n",
              "  </svg>\n",
              "      </button>\n",
              "      \n",
              "  <style>\n",
              "    .colab-df-container {\n",
              "      display:flex;\n",
              "      flex-wrap:wrap;\n",
              "      gap: 12px;\n",
              "    }\n",
              "\n",
              "    .colab-df-convert {\n",
              "      background-color: #E8F0FE;\n",
              "      border: none;\n",
              "      border-radius: 50%;\n",
              "      cursor: pointer;\n",
              "      display: none;\n",
              "      fill: #1967D2;\n",
              "      height: 32px;\n",
              "      padding: 0 0 0 0;\n",
              "      width: 32px;\n",
              "    }\n",
              "\n",
              "    .colab-df-convert:hover {\n",
              "      background-color: #E2EBFA;\n",
              "      box-shadow: 0px 1px 2px rgba(60, 64, 67, 0.3), 0px 1px 3px 1px rgba(60, 64, 67, 0.15);\n",
              "      fill: #174EA6;\n",
              "    }\n",
              "\n",
              "    [theme=dark] .colab-df-convert {\n",
              "      background-color: #3B4455;\n",
              "      fill: #D2E3FC;\n",
              "    }\n",
              "\n",
              "    [theme=dark] .colab-df-convert:hover {\n",
              "      background-color: #434B5C;\n",
              "      box-shadow: 0px 1px 3px 1px rgba(0, 0, 0, 0.15);\n",
              "      filter: drop-shadow(0px 1px 2px rgba(0, 0, 0, 0.3));\n",
              "      fill: #FFFFFF;\n",
              "    }\n",
              "  </style>\n",
              "\n",
              "      <script>\n",
              "        const buttonEl =\n",
              "          document.querySelector('#df-6d73283d-920b-41ca-8b90-793461d072ef button.colab-df-convert');\n",
              "        buttonEl.style.display =\n",
              "          google.colab.kernel.accessAllowed ? 'block' : 'none';\n",
              "\n",
              "        async function convertToInteractive(key) {\n",
              "          const element = document.querySelector('#df-6d73283d-920b-41ca-8b90-793461d072ef');\n",
              "          const dataTable =\n",
              "            await google.colab.kernel.invokeFunction('convertToInteractive',\n",
              "                                                     [key], {});\n",
              "          if (!dataTable) return;\n",
              "\n",
              "          const docLinkHtml = 'Like what you see? Visit the ' +\n",
              "            '<a target=\"_blank\" href=https://colab.research.google.com/notebooks/data_table.ipynb>data table notebook</a>'\n",
              "            + ' to learn more about interactive tables.';\n",
              "          element.innerHTML = '';\n",
              "          dataTable['output_type'] = 'display_data';\n",
              "          await google.colab.output.renderOutput(dataTable, element);\n",
              "          const docLink = document.createElement('div');\n",
              "          docLink.innerHTML = docLinkHtml;\n",
              "          element.appendChild(docLink);\n",
              "        }\n",
              "      </script>\n",
              "    </div>\n",
              "  </div>\n",
              "  "
            ]
          },
          "metadata": {},
          "execution_count": 67
        }
      ]
    },
    {
      "cell_type": "code",
      "source": [
        "model = sm.OLS(y_train,x_with_constant)\n",
        "result= model.fit()\n",
        "result.params\n"
      ],
      "metadata": {
        "colab": {
          "base_uri": "https://localhost:8080/"
        },
        "id": "ss8UI82WkzV2",
        "outputId": "b3b1399f-b557-49f6-f924-821bd63448cc"
      },
      "execution_count": null,
      "outputs": [
        {
          "output_type": "execute_result",
          "data": {
            "text/plain": [
              "const            2.131650e+06\n",
              "bedrooms        -3.647964e+04\n",
              "bathrooms        4.697206e+04\n",
              "sqft_living      1.102258e+02\n",
              "sqft_lot         6.949554e-02\n",
              "floors           5.113557e+03\n",
              "waterfront       6.224165e+05\n",
              "view             5.484551e+04\n",
              "condition        2.428836e+04\n",
              "grade            1.019778e+05\n",
              "sqft_above       6.933354e+01\n",
              "sqft_basement    4.089583e+01\n",
              "yr_built        -2.556009e+03\n",
              "yr_renovated     2.305655e+01\n",
              "zipcode         -5.477088e+02\n",
              "lat              6.052237e+05\n",
              "long            -2.219809e+05\n",
              "sqft_living15    1.202167e+01\n",
              "sqft_lot15      -3.304596e-01\n",
              "dtype: float64"
            ]
          },
          "metadata": {},
          "execution_count": 69
        }
      ]
    },
    {
      "cell_type": "code",
      "source": [
        "print(result.summary())"
      ],
      "metadata": {
        "colab": {
          "base_uri": "https://localhost:8080/"
        },
        "id": "sxmGM0sMvRev",
        "outputId": "e8643181-d7eb-408f-a230-b9d912d0a97d"
      },
      "execution_count": null,
      "outputs": [
        {
          "output_type": "stream",
          "name": "stdout",
          "text": [
            "                            OLS Regression Results                            \n",
            "==============================================================================\n",
            "Dep. Variable:                  price   R-squared:                       0.703\n",
            "Model:                            OLS   Adj. R-squared:                  0.703\n",
            "Method:                 Least Squares   F-statistic:                     2342.\n",
            "Date:                Tue, 23 May 2023   Prob (F-statistic):               0.00\n",
            "Time:                        13:12:47   Log-Likelihood:            -2.2928e+05\n",
            "No. Observations:               16805   AIC:                         4.586e+05\n",
            "Df Residuals:                   16787   BIC:                         4.587e+05\n",
            "Df Model:                          17                                         \n",
            "Covariance Type:            nonrobust                                         \n",
            "=================================================================================\n",
            "                    coef    std err          t      P>|t|      [0.025      0.975]\n",
            "---------------------------------------------------------------------------------\n",
            "const          2.132e+06    3.4e+06      0.627      0.530   -4.53e+06    8.79e+06\n",
            "bedrooms      -3.648e+04   2160.304    -16.886      0.000   -4.07e+04   -3.22e+04\n",
            "bathrooms      4.697e+04   3714.894     12.644      0.000    3.97e+04    5.43e+04\n",
            "sqft_living     110.2258      2.607     42.275      0.000     105.115     115.337\n",
            "sqft_lot          0.0695      0.055      1.272      0.203      -0.038       0.177\n",
            "floors         5113.5566   4026.370      1.270      0.204   -2778.552     1.3e+04\n",
            "waterfront     6.224e+05   2.02e+04     30.875      0.000    5.83e+05    6.62e+05\n",
            "view           5.485e+04   2488.216     22.042      0.000       5e+04    5.97e+04\n",
            "condition      2.429e+04   2785.356      8.720      0.000    1.88e+04    2.97e+04\n",
            "grade           1.02e+05   2467.793     41.323      0.000    9.71e+04    1.07e+05\n",
            "sqft_above       69.3335      2.514     27.574      0.000      64.405      74.262\n",
            "sqft_basement    40.8958      3.059     13.368      0.000      34.900      46.892\n",
            "yr_built      -2556.0092     83.027    -30.785      0.000   -2718.750   -2393.268\n",
            "yr_renovated     23.0566      4.317      5.341      0.000      14.595      31.518\n",
            "zipcode        -547.7088     38.349    -14.282      0.000    -622.877    -472.541\n",
            "lat            6.052e+05   1.24e+04     48.633      0.000    5.81e+05     6.3e+05\n",
            "long           -2.22e+05   1.51e+04    -14.715      0.000   -2.52e+05   -1.92e+05\n",
            "sqft_living15    12.0217      3.921      3.066      0.002       4.337      19.706\n",
            "sqft_lot15       -0.3305      0.084     -3.929      0.000      -0.495      -0.166\n",
            "==============================================================================\n",
            "Omnibus:                    13765.001   Durbin-Watson:                   1.979\n",
            "Prob(Omnibus):                  0.000   Jarque-Bera (JB):          1176129.019\n",
            "Skew:                           3.402   Prob(JB):                         0.00\n",
            "Kurtosis:                      43.415   Cond. No.                     2.80e+17\n",
            "==============================================================================\n",
            "\n",
            "Notes:\n",
            "[1] Standard Errors assume that the covariance matrix of the errors is correctly specified.\n",
            "[2] The smallest eigenvalue is 2.17e-21. This might indicate that there are\n",
            "strong multicollinearity problems or that the design matrix is singular.\n"
          ]
        }
      ]
    }
  ]
}